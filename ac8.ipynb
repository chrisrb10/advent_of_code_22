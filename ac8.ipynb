{
 "cells": [
  {
   "cell_type": "code",
   "execution_count": 147,
   "id": "96560dfb-87aa-4ed6-a51e-9eb16a9429f2",
   "metadata": {},
   "outputs": [],
   "source": [
    "import numpy as np\n",
    "\n",
    "# better numpy than pandas for this one, perhaps?\n"
   ]
  },
  {
   "cell_type": "code",
   "execution_count": 268,
   "id": "64b37044-8fe6-454c-a01c-4011eccd2b06",
   "metadata": {},
   "outputs": [
    {
     "data": {
      "text/plain": [
       "1690"
      ]
     },
     "execution_count": 268,
     "metadata": {},
     "output_type": "execute_result"
    }
   ],
   "source": [
    "#pt 1\n",
    "\n",
    "f = np.array([[int(x) for x in i] for i in np.loadtxt('data/input_8.txt', dtype='str')])\n",
    "vis = np.zeros(f.shape, dtype='int')\n",
    "\n",
    "it = np.nditer(f, flags=['multi_index'])\n",
    "\n",
    "for x in it:\n",
    "    i,j  = it.multi_index\n",
    "    tallest = any([((x==f[i,:j+1].max()) & (f[i,:j+1].argmax()==j)),                     #view W\n",
    "               ((x==f[:i+1,j].max()) & (f[:i+1,j].argmax()==i)),                         #view N\n",
    "               ((x==f[i,j:].max()) & (np.count_nonzero(f[i,j:]==f[i,j:].max())==1)),     #view E\n",
    "               ((x==f[i:,j].max()) & (np.count_nonzero(f[i:,j]==f[i:,j].max())==1))])    #view S  \n",
    "    if tallest: vis[i,j] = 1\n",
    "    \n",
    "\n",
    "vis.sum()"
   ]
  },
  {
   "cell_type": "code",
   "execution_count": 269,
   "id": "16eccd26-e3d3-4597-bc36-8eef8f48a75c",
   "metadata": {},
   "outputs": [
    {
     "data": {
      "text/plain": [
       "535680"
      ]
     },
     "execution_count": 269,
     "metadata": {},
     "output_type": "execute_result"
    }
   ],
   "source": [
    "#pt 2\n",
    "\n",
    "def view_count(a,h):\n",
    "    retval=0\n",
    "    if len(a)==0:\n",
    "        return retval\n",
    "    for t in a:\n",
    "        if t>=h: \n",
    "            retval+=1\n",
    "            return retval\n",
    "        else:\n",
    "            retval+=1\n",
    "    return retval\n",
    "\n",
    "\n",
    "view = np.zeros(f.shape, dtype='int')\n",
    "it = np.nditer(f, flags=['multi_index'])\n",
    "\n",
    "for x in it:\n",
    "    i,j  = it.multi_index\n",
    "\n",
    "    viewscore=(view_count(np.flip(f[i,:j]), x) *       #view W\n",
    "               view_count(np.flip(f[:i,j]), x) *       #view N\n",
    "               view_count(f[i,j+1:], x) *              #view E\n",
    "               view_count(f[i+1:,j], x) )              #view S  \n",
    "    view[i,j] = viewscore\n",
    "\n",
    "\n",
    "    \n",
    "view.max()"
   ]
  }
 ],
 "metadata": {
  "kernelspec": {
   "display_name": "Python 3 (ipykernel)",
   "language": "python",
   "name": "python3"
  },
  "language_info": {
   "codemirror_mode": {
    "name": "ipython",
    "version": 3
   },
   "file_extension": ".py",
   "mimetype": "text/x-python",
   "name": "python",
   "nbconvert_exporter": "python",
   "pygments_lexer": "ipython3",
   "version": "3.7.7"
  }
 },
 "nbformat": 4,
 "nbformat_minor": 5
}
