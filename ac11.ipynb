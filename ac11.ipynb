{
 "cells": [
  {
   "cell_type": "code",
   "execution_count": 1,
   "id": "1f8be9b4-a5f1-4b83-a976-836ec002ed70",
   "metadata": {},
   "outputs": [],
   "source": [
    "import numpy as np"
   ]
  },
  {
   "cell_type": "code",
   "execution_count": 2,
   "id": "da391c97-4e12-4356-a52b-e9a63abd6de4",
   "metadata": {},
   "outputs": [],
   "source": [
    "def op_to_lambda(s):\n",
    "    s = s.split('=')[1].strip()\n",
    "    p2 = s.split(' ')[-1].strip()\n",
    "    if p2=='old':\n",
    "        if s.split(' ')[1]=='+':\n",
    "            return lambda x: x + x\n",
    "        elif s.split(' ')[1]=='*':\n",
    "            return lambda x: x * x\n",
    "    elif p2.isnumeric():\n",
    "        if s.split(' ')[1]=='+':\n",
    "            return lambda x: x + int(p2)\n",
    "        if s.split(' ')[1]=='*':\n",
    "            return lambda x: x * int(p2)\n",
    "\n",
    "           \n",
    "def test_to_lambda(s):\n",
    "    val = int(s.strip().split(' ')[-1])\n",
    "    return val, lambda x: x % val==0\n",
    "\n",
    "\n",
    "def get_test_arr(d):\n",
    "    return np.array([d[m]['test_val'] for m in d.keys()])\n",
    "    \n",
    "    "
   ]
  },
  {
   "cell_type": "code",
   "execution_count": 3,
   "id": "f9b8a431-7203-46c0-bdea-aea3ca640bdd",
   "metadata": {},
   "outputs": [],
   "source": [
    "def get_notes():\n",
    "    \n",
    "    notes = {}\n",
    "\n",
    "    with open('data/input_11.txt') as f:\n",
    "        for line in f.readlines():\n",
    "            line = line.strip('\\n')\n",
    "            if line.startswith('Monkey'):\n",
    "                m = line.split(':')[0].replace(' ','_')\n",
    "                notes[m]={}\n",
    "            if line.strip().startswith('Start'):\n",
    "                notes[m]['start'] = [int(x.strip()) for x in line.split(':')[1].split(',')]\n",
    "            if line.strip().startswith('Operation'):\n",
    "                notes[m]['operation'] = line.split(':')[1].strip()\n",
    "                notes[m]['op_fn'] = op_to_lambda(notes[m]['operation'])\n",
    "            if line.strip().startswith('Test'):\n",
    "                notes[m]['test'] = line.split(':')[1].strip()\n",
    "                notes[m]['test_fn']= test_to_lambda(notes[m]['test'])[1]\n",
    "                notes[m]['test_val']= test_to_lambda(notes[m]['test'])[0]\n",
    "            if line.strip().startswith('If true'):\n",
    "                notes[m]['T'] = int(line.split(':')[1].split(' ')[-1].strip())\n",
    "            if line.strip().startswith('If false'):\n",
    "                notes[m]['F'] = int(line.split(':')[1].split(' ')[-1].strip())\n",
    "    \n",
    "\n",
    "    \n",
    "    return notes\n",
    "                   \n",
    "            "
   ]
  },
  {
   "cell_type": "code",
   "execution_count": 4,
   "id": "cb374e7c-82b1-448f-b175-05998b414805",
   "metadata": {},
   "outputs": [],
   "source": [
    "def m_round(m, part=1, mod=1):\n",
    "    monkey_inspections[m] +=  monkey_holdings[m].shape[0]\n",
    "\n",
    "    monkey_holdings[m] = notes[m]['op_fn'](monkey_holdings[m])\n",
    "        \n",
    "    if part==1:\n",
    "        monkey_holdings[m] = monkey_holdings[m]//3\n",
    "       \n",
    "    if part==2:\n",
    "        monkey_holdings[m] = monkey_holdings[m]%mod\n",
    "        \n",
    "    test = notes[m]['test_fn'](monkey_holdings[m])\n",
    "\n",
    "    to_monkey = notes[m]['T']\n",
    "    monkey_holdings[f'Monkey_{to_monkey}']=np.append(monkey_holdings[f'Monkey_{to_monkey}'], monkey_holdings[m][test])\n",
    "\n",
    "    to_monkey = notes[m]['F']\n",
    "    monkey_holdings[f'Monkey_{to_monkey}']=np.append(monkey_holdings[f'Monkey_{to_monkey}'], monkey_holdings[m][~test])\n",
    "\n",
    "    monkey_holdings[m] = np.array([])\n",
    "    \n",
    "    return\n",
    "    "
   ]
  },
  {
   "cell_type": "code",
   "execution_count": 5,
   "id": "2a45387b-75fb-467e-84c2-181e05aa0ffc",
   "metadata": {},
   "outputs": [
    {
     "data": {
      "text/plain": [
       "[32, 337, 342, 60, 253, 339, 352, 17]"
      ]
     },
     "execution_count": 5,
     "metadata": {},
     "output_type": "execute_result"
    }
   ],
   "source": [
    "#pt 1\n",
    "notes = get_notes()\n",
    "monkey_holdings = {k:np.array(v['start']) for k,v in zip(notes.keys(), notes.values())}\n",
    "monkey_inspections = {k:0 for k in notes.keys()}\n",
    "rounds = []\n",
    "\n",
    "for r in range(0,20):\n",
    "    for m in monkey_holdings.keys():\n",
    "        m_round(m, part=1)\n",
    "\n",
    "\n",
    "mb = list(monkey_inspections.values())\n",
    "mb"
   ]
  },
  {
   "cell_type": "code",
   "execution_count": 6,
   "id": "03bb8f27-eb36-4490-bb28-964b41f758a4",
   "metadata": {},
   "outputs": [
    {
     "data": {
      "text/plain": [
       "120384"
      ]
     },
     "execution_count": 6,
     "metadata": {},
     "output_type": "execute_result"
    }
   ],
   "source": [
    "mb.sort()\n",
    "mb[-1]*mb[-2]"
   ]
  },
  {
   "cell_type": "code",
   "execution_count": 7,
   "id": "953832cb-d0a3-4467-94ee-dc9bc6c62ffd",
   "metadata": {},
   "outputs": [
    {
     "data": {
      "text/plain": [
       "[19740, 173779, 172846, 45078, 179649, 178458, 174108, 6215]"
      ]
     },
     "execution_count": 7,
     "metadata": {},
     "output_type": "execute_result"
    }
   ],
   "source": [
    "#pt 2\n",
    "notes = get_notes()\n",
    "monkey_holdings = {k:np.array(v['start']) for k,v in zip(notes.keys(), notes.values())}\n",
    "monkey_inspections = {k:0 for k in notes.keys()}\n",
    "rounds = []\n",
    "mod = np.prod([notes[m]['test_val']for m in notes.keys()])\n",
    "\n",
    "for r in range(0,10000):\n",
    "    for m in monkey_holdings.keys():\n",
    "        m_round(m, part=2, mod=mod)\n",
    "\n",
    "\n",
    "mb = list(monkey_inspections.values())\n",
    "mb"
   ]
  },
  {
   "cell_type": "code",
   "execution_count": 8,
   "id": "93ff8912-354d-4998-b82b-f7be8f9b240d",
   "metadata": {},
   "outputs": [
    {
     "data": {
      "text/plain": [
       "32059801242"
      ]
     },
     "execution_count": 8,
     "metadata": {},
     "output_type": "execute_result"
    }
   ],
   "source": [
    "mb.sort()\n",
    "mb[-1]*mb[-2]"
   ]
  },
  {
   "cell_type": "code",
   "execution_count": null,
   "id": "c3aefb35-f936-450c-8692-9091bda856cd",
   "metadata": {},
   "outputs": [],
   "source": []
  },
  {
   "cell_type": "code",
   "execution_count": null,
   "id": "91b6151c-862b-452b-bd5d-43ff6b097963",
   "metadata": {},
   "outputs": [],
   "source": []
  },
  {
   "cell_type": "code",
   "execution_count": null,
   "id": "3d9acdd2-0722-45a8-8c8a-6e775109a565",
   "metadata": {},
   "outputs": [],
   "source": []
  }
 ],
 "metadata": {
  "kernelspec": {
   "display_name": "Python 3 (ipykernel)",
   "language": "python",
   "name": "python3"
  },
  "language_info": {
   "codemirror_mode": {
    "name": "ipython",
    "version": 3
   },
   "file_extension": ".py",
   "mimetype": "text/x-python",
   "name": "python",
   "nbconvert_exporter": "python",
   "pygments_lexer": "ipython3",
   "version": "3.7.7"
  }
 },
 "nbformat": 4,
 "nbformat_minor": 5
}
