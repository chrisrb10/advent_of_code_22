{
 "cells": [
  {
   "cell_type": "code",
   "execution_count": 40,
   "id": "629963fc-63e9-452b-892b-fb86e2955ab5",
   "metadata": {},
   "outputs": [],
   "source": [
    "# NB - making an attempt to solve all of the AOC problems in pandas - not especially useful in this one ....\n",
    "import pandas as pd"
   ]
  },
  {
   "cell_type": "code",
   "execution_count": 41,
   "id": "ef5f4a38-518c-4718-8f50-1e5b75263d54",
   "metadata": {},
   "outputs": [],
   "source": [
    "def find_marker(s, g=4):\n",
    "    for i in range(0, len(s)-g+1):\n",
    "        if len(s[i:i+g]) == len(set(s[i:i+g])): \n",
    "            return i+g"
   ]
  },
  {
   "cell_type": "code",
   "execution_count": 42,
   "id": "1ce681eb-8baf-481e-a8b8-85b583ff7a48",
   "metadata": {},
   "outputs": [],
   "source": [
    "df = pd.read_table('data/input_6.txt', header=None)\n"
   ]
  },
  {
   "cell_type": "code",
   "execution_count": 43,
   "id": "0e52cef4-9b49-41a1-bd1d-8d341885f9c3",
   "metadata": {},
   "outputs": [
    {
     "data": {
      "text/plain": [
       "1658"
      ]
     },
     "execution_count": 43,
     "metadata": {},
     "output_type": "execute_result"
    }
   ],
   "source": [
    "#pt 1\n",
    "find_marker(df[0][0])"
   ]
  },
  {
   "cell_type": "code",
   "execution_count": 44,
   "id": "bfa108da-b56b-423d-9c67-14205678562f",
   "metadata": {},
   "outputs": [
    {
     "data": {
      "text/plain": [
       "2260"
      ]
     },
     "execution_count": 44,
     "metadata": {},
     "output_type": "execute_result"
    }
   ],
   "source": [
    "#pt 2\n",
    "find_marker(df[0][0],g=14)"
   ]
  },
  {
   "cell_type": "code",
   "execution_count": null,
   "id": "77df6072-70bf-4f8f-99c1-02d09b4cb2d9",
   "metadata": {},
   "outputs": [],
   "source": []
  },
  {
   "cell_type": "code",
   "execution_count": null,
   "id": "1d67dbb2-8a1c-4a99-be92-02466846e71c",
   "metadata": {},
   "outputs": [],
   "source": []
  }
 ],
 "metadata": {
  "kernelspec": {
   "display_name": "Python 3",
   "language": "python",
   "name": "python3"
  },
  "language_info": {
   "codemirror_mode": {
    "name": "ipython",
    "version": 3
   },
   "file_extension": ".py",
   "mimetype": "text/x-python",
   "name": "python",
   "nbconvert_exporter": "python",
   "pygments_lexer": "ipython3",
   "version": "3.7.7"
  }
 },
 "nbformat": 4,
 "nbformat_minor": 5
}
