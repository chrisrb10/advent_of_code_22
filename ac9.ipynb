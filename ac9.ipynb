{
 "cells": [
  {
   "cell_type": "code",
   "execution_count": 2,
   "id": "8555f2cd-572f-4cab-bc2d-23d376a87865",
   "metadata": {},
   "outputs": [],
   "source": [
    "import numpy as np\n"
   ]
  },
  {
   "cell_type": "code",
   "execution_count": 228,
   "id": "2f5e3fdb-c943-4aeb-a347-91dacc746f05",
   "metadata": {},
   "outputs": [
    {
     "name": "stdout",
     "output_type": "stream",
     "text": [
      "[0 0] [0 0]\n"
     ]
    }
   ],
   "source": []
  },
  {
   "cell_type": "code",
   "execution_count": 97,
   "id": "e99878bb-d219-4405-b4fb-62c2eaa2331f",
   "metadata": {},
   "outputs": [],
   "source": [
    "moves=[]\n",
    "\n",
    "move_dict = {'U':np.array([0,1]),\n",
    "             'D':np.array([0,-1]),\n",
    "             'L':np.array([-1,0]),\n",
    "             'R':np.array([1,0])}\n",
    "\n",
    "\n",
    "with open('data/input_9.txt') as f:\n",
    "    lines = f.readlines()\n",
    "    \n",
    "for move in [tuple(x.strip('\\n').split()) for x in lines]:\n",
    "    moves += [move_dict[move[0]] for x in range((int(move[1])))]\n",
    "    \n",
    "#moves"
   ]
  },
  {
   "cell_type": "code",
   "execution_count": 98,
   "id": "df28826f-2015-4182-8e53-2481e50333cb",
   "metadata": {},
   "outputs": [
    {
     "name": "stdout",
     "output_type": "stream",
     "text": [
      "5907\n"
     ]
    }
   ],
   "source": [
    "#pt 1 - works\n",
    "\n",
    "h_trace = []\n",
    "t_trace = []\n",
    "s=(0,0)\n",
    "h,t = np.array(s),np.array(s)\n",
    "\n",
    "#print(h,t)\n",
    "\n",
    "for move in moves:\n",
    "    h_trace.append(tuple(h))\n",
    "    h = h+move\n",
    "    #print(h,t, h_trace[-1])\n",
    "    touching = (np.absolute(h-t).max()<=1) & (np.absolute(h-t).sum()<=2)\n",
    "    #print(touching)\n",
    "    if touching == False:\n",
    "        #print('moving t')\n",
    "        t_trace.append(tuple(t))\n",
    "        t = h_trace[-1]\n",
    "        #print(type(t))\n",
    "        #print(t)\n",
    "        \n",
    "    #print()\n",
    "    \n",
    "h_trace.append(tuple(h))\n",
    "t_trace.append(tuple(t))\n",
    "\n",
    "print(len(set(t_trace)))"
   ]
  },
  {
   "cell_type": "code",
   "execution_count": 102,
   "id": "9888e2bb-bbea-4de4-846f-6b197dac770f",
   "metadata": {},
   "outputs": [],
   "source": [
    "#pt 2 - not modelling correct movement\n",
    "\n",
    "moves=[]\n",
    "\n",
    "with open('data/9_test.txt') as f:\n",
    "    lines = f.readlines()\n",
    "    \n",
    "for move in [tuple(x.strip('\\n').split()) for x in lines]:\n",
    "    moves += [move_dict[move[0]] for x in range((int(move[1])))]\n",
    "    \n",
    "#moves"
   ]
  },
  {
   "cell_type": "code",
   "execution_count": 105,
   "id": "7b2ac15e-a3ea-4473-927c-73ee6358679f",
   "metadata": {},
   "outputs": [
    {
     "data": {
      "text/plain": [
       "80"
      ]
     },
     "execution_count": 105,
     "metadata": {},
     "output_type": "execute_result"
    }
   ],
   "source": [
    "s=(11,5)\n",
    "\n",
    "trace_dict = {f'trace_k{x}':[] for x in range(1,11)}\n",
    "knot_dict = {f'k{x}':np.array(s) for x in range(1,11)}\n",
    "\n",
    "\n",
    "\n",
    "def is_touching(a,b):\n",
    "    return (np.absolute(a-b).max()<=1) & (np.absolute(a-b).sum()<=2)\n",
    "\n",
    "\n",
    "for move in moves:\n",
    "    trace_dict['trace_k1'].append(tuple(knot_dict['k1']))\n",
    "    knot_dict['k1'] = knot_dict['k1']+move\n",
    "    knot_dict['k1']                    \n",
    "    for l,f in zip(list(knot_dict.keys())[:-1], list(knot_dict.keys())[1:]):\n",
    "        #print(l, f, knot_dict[l], knot_dict[f])\n",
    "        touching = is_touching(knot_dict[l],knot_dict[f])\n",
    "        if touching == False:\n",
    "            trace_dict[f'trace_{f}'].append(tuple(knot_dict[f]))\n",
    "            knot_dict[f] = np.array(trace_dict[f'trace_{l}'][-1])\n",
    "            #print(knot_dict[f], type(knot_dict[f]))\n",
    "            \n",
    "    #print()\n",
    "            \n",
    "\n",
    "            \n",
    "            \n",
    "for knot, trace in zip(knot_dict.keys(), trace_dict.keys()):\n",
    "    trace_dict[trace].append(tuple(knot_dict[knot]))\n",
    "    \n",
    "\n",
    "len(set(trace_dict['trace_k10']))  # SHOULD be 36 ...."
   ]
  },
  {
   "cell_type": "code",
   "execution_count": null,
   "id": "296315bc-db28-44d5-8ac4-dc20ad8a39d2",
   "metadata": {},
   "outputs": [],
   "source": []
  },
  {
   "cell_type": "code",
   "execution_count": null,
   "id": "b69a864b-10a0-41be-804f-20bec30386b8",
   "metadata": {},
   "outputs": [],
   "source": []
  },
  {
   "cell_type": "code",
   "execution_count": null,
   "id": "07b49794-f470-4650-a615-b37f94c25c37",
   "metadata": {},
   "outputs": [],
   "source": []
  },
  {
   "cell_type": "code",
   "execution_count": null,
   "id": "80119ee4-87f0-496d-a784-d420658ba65e",
   "metadata": {},
   "outputs": [],
   "source": []
  },
  {
   "cell_type": "code",
   "execution_count": null,
   "id": "77f4191e-8191-4f47-9ab1-6638b94eff9b",
   "metadata": {},
   "outputs": [],
   "source": []
  },
  {
   "cell_type": "code",
   "execution_count": null,
   "id": "d97f73ac-c3b3-4b2d-bfb1-0e83c8cd003a",
   "metadata": {},
   "outputs": [],
   "source": []
  },
  {
   "cell_type": "code",
   "execution_count": null,
   "id": "5d730bfd-0eae-452b-b973-b05b243d877b",
   "metadata": {},
   "outputs": [],
   "source": []
  },
  {
   "cell_type": "code",
   "execution_count": null,
   "id": "20408208-349c-4c80-a48f-f31f9138872f",
   "metadata": {},
   "outputs": [],
   "source": []
  },
  {
   "cell_type": "code",
   "execution_count": null,
   "id": "b3a85b6f-b0ee-4aa8-8b78-b9a6fad13df1",
   "metadata": {},
   "outputs": [],
   "source": []
  }
 ],
 "metadata": {
  "kernelspec": {
   "display_name": "Python 3 (ipykernel)",
   "language": "python",
   "name": "python3"
  },
  "language_info": {
   "codemirror_mode": {
    "name": "ipython",
    "version": 3
   },
   "file_extension": ".py",
   "mimetype": "text/x-python",
   "name": "python",
   "nbconvert_exporter": "python",
   "pygments_lexer": "ipython3",
   "version": "3.7.7"
  }
 },
 "nbformat": 4,
 "nbformat_minor": 5
}
