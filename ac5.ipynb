{
 "cells": [
  {
   "cell_type": "code",
   "execution_count": 2,
   "id": "3c5e4405-ac23-4282-811b-eeccc8bfb03e",
   "metadata": {},
   "outputs": [],
   "source": [
    "# NB - making an attempt to solve all of the AOC problems in pandas - not especially useful in this one ....\n",
    "import pandas as pd"
   ]
  },
  {
   "cell_type": "code",
   "execution_count": 3,
   "id": "5d66f5fb-8fd4-4f92-8e91-57aa002b8c4a",
   "metadata": {},
   "outputs": [],
   "source": [
    "def get_stacks():\n",
    "    df = pd.read_table('data/input_5.txt', header=None, nrows=9)\n",
    "    stacks = {int(x):[b] for x,b in zip(df[0][8], df[0][7]) if x!=' '}\n",
    "    for layer in [x for x in range(0,7)][::-1]:\n",
    "        boxes = [list(df[0][layer])[1]] + (list(df[0][layer])[5:])[::4]\n",
    "        for i, box in enumerate(boxes):\n",
    "            if box!=' ':stacks[i+1].append(box)\n",
    "    return stacks"
   ]
  },
  {
   "cell_type": "code",
   "execution_count": 4,
   "id": "ac5cf3bb-9a7f-43b1-a90e-fd138c73a95e",
   "metadata": {},
   "outputs": [],
   "source": [
    "df = pd.read_table('data/input_5.txt', header=None, skiprows=9)\n",
    "df = df[0].str.extractall('move (\\d{1,2}) from (\\d) to (\\d)').reset_index(drop=True).rename(columns={0:'M', 1:'F', 2:'T'}).astype('int')"
   ]
  },
  {
   "cell_type": "code",
   "execution_count": 10,
   "id": "f8d6f846-43cd-4abd-ab60-158ba72020f8",
   "metadata": {},
   "outputs": [
    {
     "name": "stdout",
     "output_type": "stream",
     "text": [
      "HBTMTBSDC\n"
     ]
    }
   ],
   "source": [
    "#part1\n",
    "stacks_dict = get_stacks()\n",
    "\n",
    "for row in df.itertuples():\n",
    "    for b in range(0, row.M):\n",
    "        stacks_dict[row.T].append(stacks_dict[row.F][-1:][0])\n",
    "        stacks_dict[row.F] = stacks_dict[row.F][:-1]\n",
    "        \n",
    "print(('').join([x[-1] for x in stacks_dict.values()]))"
   ]
  },
  {
   "cell_type": "code",
   "execution_count": 11,
   "id": "59a1f7c2-a813-4db4-89e5-2092634a44a7",
   "metadata": {},
   "outputs": [
    {
     "name": "stdout",
     "output_type": "stream",
     "text": [
      "PQTJRSHWS\n"
     ]
    }
   ],
   "source": [
    "#part2\n",
    "stacks_dict = get_stacks()\n",
    "\n",
    "for row in df.itertuples():\n",
    "    stacks_dict[row.T] += stacks_dict[row.F][-row.M:]\n",
    "    stacks_dict[row.F] = stacks_dict[row.F][:-row.M]\n",
    "\n",
    "print(('').join([x[-1] for x in stacks_dict.values()]))"
   ]
  },
  {
   "cell_type": "code",
   "execution_count": 25,
   "id": "bb053b2e-4abe-4507-bb27-6b137000b449",
   "metadata": {},
   "outputs": [
    {
     "name": "stdout",
     "output_type": "stream",
     "text": [
      "HBTMTBSDC PQTJRSHWS\n"
     ]
    }
   ],
   "source": [
    "# Neater solution - both parts in 1 function\n",
    "\n",
    "def unload(df, s_dict, order=1):\n",
    "    for row in df.itertuples():\n",
    "        s_dict[row.T] += s_dict[row.F][-row.M:][::order]\n",
    "        s_dict[row.F] = s_dict[row.F][:-row.M]\n",
    "    return (('').join([x[-1] for x in s_dict.values()]))\n",
    "    \n",
    "    \n",
    "print(unload(df, get_stacks(), order=-1), unload(df, get_stacks()))"
   ]
  },
  {
   "cell_type": "code",
   "execution_count": null,
   "id": "1f91a00e-0dbb-443c-b6e5-2e15f9aa8462",
   "metadata": {},
   "outputs": [],
   "source": []
  },
  {
   "cell_type": "code",
   "execution_count": null,
   "id": "17672bca-bd77-4de6-8078-0cea0142dc39",
   "metadata": {},
   "outputs": [],
   "source": []
  },
  {
   "cell_type": "markdown",
   "id": "a8665436-5fb2-4490-84ac-af6ac1002c23",
   "metadata": {},
   "source": [
    "##### Accepted answers\n",
    "\n",
    "```\n",
    "pt1 - HBTMTBSDC\n",
    "pt2 - PQTJRSHWS\n",
    "```"
   ]
  }
 ],
 "metadata": {
  "kernelspec": {
   "display_name": "Python 3",
   "language": "python",
   "name": "python3"
  },
  "language_info": {
   "codemirror_mode": {
    "name": "ipython",
    "version": 3
   },
   "file_extension": ".py",
   "mimetype": "text/x-python",
   "name": "python",
   "nbconvert_exporter": "python",
   "pygments_lexer": "ipython3",
   "version": "3.7.7"
  }
 },
 "nbformat": 4,
 "nbformat_minor": 5
}
