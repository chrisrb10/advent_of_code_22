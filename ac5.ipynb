{
 "cells": [
  {
   "cell_type": "code",
   "execution_count": 1,
   "id": "3c5e4405-ac23-4282-811b-eeccc8bfb03e",
   "metadata": {},
   "outputs": [],
   "source": [
    "# NB - making an attempt to solve all of the AOC problems in pandas - not especially useful in this one ....\n",
    "import pandas as pd"
   ]
  },
  {
   "cell_type": "code",
   "execution_count": 2,
   "id": "5d66f5fb-8fd4-4f92-8e91-57aa002b8c4a",
   "metadata": {},
   "outputs": [],
   "source": [
    "def get_stacks():\n",
    "    df = pd.read_table('data/input_5.txt', header=None, nrows=9)\n",
    "    stacks = {int(x):[b] for x,b in zip(df[0][8], df[0][7]) if x!=' '}\n",
    "    for layer in [x for x in range(0,7)][::-1]:\n",
    "        boxes = [list(df[0][layer])[1]] + (list(df[0][layer])[5:])[::4]\n",
    "        for i, box in enumerate(boxes):\n",
    "            if box!=' ':stacks[i+1].append(box)\n",
    "    return stacks"
   ]
  },
  {
   "cell_type": "code",
   "execution_count": 3,
   "id": "ac5cf3bb-9a7f-43b1-a90e-fd138c73a95e",
   "metadata": {},
   "outputs": [],
   "source": [
    "df = pd.read_table('data/input_5.txt', header=None, skiprows=9)\n",
    "df = df[0].str.extractall('move (\\d{1,2}) from (\\d) to (\\d)').reset_index(drop=True).rename(columns={0:'M', 1:'F', 2:'T'}).astype('int')"
   ]
  },
  {
   "cell_type": "code",
   "execution_count": 4,
   "id": "f8d6f846-43cd-4abd-ab60-158ba72020f8",
   "metadata": {},
   "outputs": [
    {
     "name": "stdout",
     "output_type": "stream",
     "text": [
      "HBTMTBSDC\n"
     ]
    }
   ],
   "source": [
    "#part1\n",
    "stacks_dict = get_stacks()\n",
    "\n",
    "for row in df.itertuples():\n",
    "    for b in range(0, row.M):\n",
    "        stacks_dict[row.T].append(stacks_dict[row.F][-1:][0])\n",
    "        stacks_dict[row.F] = stacks_dict[row.F][:-1]\n",
    "        \n",
    "print(('').join([x[-1] for x in stacks_dict.values()]))"
   ]
  },
  {
   "cell_type": "code",
   "execution_count": 5,
   "id": "59a1f7c2-a813-4db4-89e5-2092634a44a7",
   "metadata": {},
   "outputs": [
    {
     "name": "stdout",
     "output_type": "stream",
     "text": [
      "PQTJRSHWS\n"
     ]
    }
   ],
   "source": [
    "#part2\n",
    "stacks_dict = get_stacks()\n",
    "\n",
    "for row in df.itertuples():\n",
    "    stacks_dict[row.T] += stacks_dict[row.F][-row.M:]\n",
    "    stacks_dict[row.F] = stacks_dict[row.F][:-row.M]\n",
    "\n",
    "print(('').join([x[-1] for x in stacks_dict.values()]))"
   ]
  },
  {
   "cell_type": "code",
   "execution_count": null,
   "id": "5e63fe59-7309-4eb6-b34c-090e8ad52817",
   "metadata": {},
   "outputs": [],
   "source": [
    "\n"
   ]
  },
  {
   "cell_type": "code",
   "execution_count": null,
   "id": "bb053b2e-4abe-4507-bb27-6b137000b449",
   "metadata": {},
   "outputs": [],
   "source": []
  },
  {
   "cell_type": "code",
   "execution_count": null,
   "id": "f2067732-1b48-4cf8-a3b2-64a7af9c255a",
   "metadata": {},
   "outputs": [],
   "source": []
  }
 ],
 "metadata": {
  "kernelspec": {
   "display_name": "Python 3",
   "language": "python",
   "name": "python3"
  },
  "language_info": {
   "codemirror_mode": {
    "name": "ipython",
    "version": 3
   },
   "file_extension": ".py",
   "mimetype": "text/x-python",
   "name": "python",
   "nbconvert_exporter": "python",
   "pygments_lexer": "ipython3",
   "version": "3.7.7"
  }
 },
 "nbformat": 4,
 "nbformat_minor": 5
}
