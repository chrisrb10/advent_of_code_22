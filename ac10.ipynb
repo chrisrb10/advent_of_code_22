{
 "cells": [
  {
   "cell_type": "code",
   "execution_count": 201,
   "id": "cdec937e-e649-48b6-8e2f-8f0a90951f49",
   "metadata": {},
   "outputs": [],
   "source": [
    "import numpy as np\n",
    "import pandas as pd\n",
    "import matplotlib.pyplot as plt\n",
    "import seaborn as sns\n",
    "%matplotlib inline"
   ]
  },
  {
   "cell_type": "code",
   "execution_count": 208,
   "id": "48761362-a574-4abd-b38a-3f943dbdd48d",
   "metadata": {},
   "outputs": [
    {
     "data": {
      "text/plain": [
       "15220"
      ]
     },
     "execution_count": 208,
     "metadata": {},
     "output_type": "execute_result"
    }
   ],
   "source": [
    "#pt 1\n",
    "cycles = []\n",
    "x = 1\n",
    "\n",
    "with open('data/input_10.txt') as f:\n",
    "    for line in f.readlines():\n",
    "        if line.strip('\\n').split(' ')[0] == 'noop':\n",
    "            cycles.append(x)\n",
    "        elif line.strip('\\n').split(' ')[0] == 'addx':\n",
    "            cycles.extend([x, x])\n",
    "            x += int(line.strip('\\n').split(' ')[1])\n",
    "        \n",
    "cycles = np.array(cycles)\n",
    "access_i = np.array([x for x in range(20, len(cycles)+1, 40)])\n",
    "sum_sig = np.array([i*x for i,x in zip(access_i, cycles[access_i-1])]).sum()\n",
    "sum_sig"
   ]
  },
  {
   "cell_type": "code",
   "execution_count": 233,
   "id": "668156da-25ac-4b24-8599-ce8a6b4655d5",
   "metadata": {},
   "outputs": [
    {
     "data": {
      "text/plain": [
       "''"
      ]
     },
     "execution_count": 233,
     "metadata": {},
     "output_type": "execute_result"
    },
    {
     "data": {
      "image/png": "[encoded data removed]",
      "text/plain": [
       "<Figure size 2000x300 with 2 Axes>"
      ]
     },
     "metadata": {},
     "output_type": "display_data"
    }
   ],
   "source": [
    "#pt 2\n",
    "screen = cycles.reshape((-1,40))\n",
    "pixels = np.zeros(screen.shape, dtype='int')\n",
    "for i, row in enumerate(screen):\n",
    "    for j, x in enumerate(row):\n",
    "        if  x-1<= j <=x+1:\n",
    "            pixels[i,j] = 1\n",
    "            \n",
    "df = pd.DataFrame(pixels)\n",
    "fig, ax = plt.subplots(figsize=(20, 3))\n",
    "sns.heatmap(df)\n",
    ";"
   ]
  },
  {
   "cell_type": "code",
   "execution_count": null,
   "id": "59e07d12-f99d-44e7-8a1a-f3ae15ffd2ea",
   "metadata": {},
   "outputs": [],
   "source": []
  },
  {
   "cell_type": "code",
   "execution_count": null,
   "id": "d698b3be-76b9-4d6d-b124-d2ce26430924",
   "metadata": {},
   "outputs": [],
   "source": []
  },
  {
   "cell_type": "code",
   "execution_count": 223,
   "id": "4633f73d-6aff-498b-8882-4764c0131c37",
   "metadata": {},
   "outputs": [],
   "source": []
  }
 ],
 "metadata": {
  "kernelspec": {
   "display_name": "Python 3 (ipykernel)",
   "language": "python",
   "name": "python3"
  },
  "language_info": {
   "codemirror_mode": {
    "name": "ipython",
    "version": 3
   },
   "file_extension": ".py",
   "mimetype": "text/x-python",
   "name": "python",
   "nbconvert_exporter": "python",
   "pygments_lexer": "ipython3",
   "version": "3.7.7"
  }
 },
 "nbformat": 4,
 "nbformat_minor": 5
}
